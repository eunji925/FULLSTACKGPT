{
 "cells": [
  {
   "cell_type": "code",
   "execution_count": 5,
   "metadata": {},
   "outputs": [
    {
     "name": "stdout",
     "output_type": "stream",
     "text": [
      "content='\\n        Title: Jurassic Park\\n        Director: Steven Spielberg\\n        Main Cast: Sam Neill, Laura Dern, Jeff Goldblum\\n        Budget: $63 million\\n        Box Office Revenue: $1.033 billion\\n        Genre: Science Fiction, Adventure\\n        Synopsis: During a preview tour, a theme park suffers a major power breakdown that allows its cloned dinosaur exhibits to run amok.\\n        '\n"
     ]
    }
   ],
   "source": [
    "from langchain.chat_models import ChatOpenAI\n",
    "from langchain.prompts import ChatPromptTemplate\n",
    "from langchain.prompts.few_shot import FewShotChatMessagePromptTemplate\n",
    "\n",
    "# OpenAI 모델 설정\n",
    "chat = ChatOpenAI(temperature=0.1)\n",
    "\n",
    "# 예제 출력 템플릿 정의\n",
    "example_prompt = ChatPromptTemplate.from_messages(\n",
    "    [\n",
    "        (\"human\", \"Can you tell me about the movie {movie_name}?\"),\n",
    "        (\"ai\", \"\"\"\n",
    "        Title: {title}\n",
    "        Director: {director}\n",
    "        Main Cast: {main_cast}\n",
    "        Budget: {budget}\n",
    "        Box Office Revenue: {box_office}\n",
    "        Genre: {genre}\n",
    "        Synopsis: {synopsis}\n",
    "        \"\"\"),\n",
    "    ]\n",
    ")\n",
    "\n",
    "# 예제들 정의\n",
    "examples = [\n",
    "    {\n",
    "        \"movie_name\": \"Inception\",\n",
    "        \"title\": \"Inception\",\n",
    "        \"director\": \"Christopher Nolan\",\n",
    "        \"main_cast\": \"Leonardo DiCaprio, Joseph Gordon-Levitt, Ellen Page\",\n",
    "        \"budget\": \"$160 million\",\n",
    "        \"box_office\": \"$829.9 million\",\n",
    "        \"genre\": \"Science Fiction, Action\",\n",
    "        \"synopsis\": \"A skilled thief, the absolute best in the dangerous art of extraction, stealing valuable secrets from deep within the subconscious during the dream state, is given a chance to have his criminal history erased as payment for the implantation of another person's idea into a target's subconscious.\",\n",
    "    },\n",
    "    {\n",
    "        \"movie_name\": \"The Matrix\",\n",
    "        \"title\": \"The Matrix\",\n",
    "        \"director\": \"Lana Wachowski, Lilly Wachowski\",\n",
    "        \"main_cast\": \"Keanu Reeves, Laurence Fishburne, Carrie-Anne Moss\",\n",
    "        \"budget\": \"$63 million\",\n",
    "        \"box_office\": \"$467.2 million\",\n",
    "        \"genre\": \"Science Fiction, Action\",\n",
    "        \"synopsis\": \"A computer hacker learns from mysterious rebels about the true nature of his reality and his role in the war against its controllers.\",\n",
    "    },\n",
    "    {\n",
    "        \"movie_name\": \"Titanic\",\n",
    "        \"title\": \"Titanic\",\n",
    "        \"director\": \"James Cameron\",\n",
    "        \"main_cast\": \"Leonardo DiCaprio, Kate Winslet\",\n",
    "        \"budget\": \"$200 million\",\n",
    "        \"box_office\": \"$2.202 billion\",\n",
    "        \"genre\": \"Romance, Drama\",\n",
    "        \"synopsis\": \"A seventeen-year-old aristocrat falls in love with a kind but poor artist aboard the luxurious, ill-fated R.M.S. Titanic.\",\n",
    "    },\n",
    "]\n",
    "\n",
    "# FewShot 프롬프트 템플릿 생성\n",
    "example_prompt = FewShotChatMessagePromptTemplate(\n",
    "    example_prompt=example_prompt,\n",
    "    examples=examples,\n",
    ")\n",
    "\n",
    "# 최종 프롬프트 정의\n",
    "final_prompt = ChatPromptTemplate.from_messages(\n",
    "    [\n",
    "        (\"system\", \"You are a movie expert, provide detailed information about movies.\"),\n",
    "        example_prompt,\n",
    "        (\"human\", \"Can you tell me about the movie {movie_name}?\"),\n",
    "    ]\n",
    ")\n",
    "\n",
    "# 체인 생성\n",
    "chain = final_prompt | chat\n",
    "\n",
    "# 예제 영화 정보 요청\n",
    "response = chain.invoke({\"movie_name\": \"Jurassic Park\"})\n",
    "print(response)\n"
   ]
  }
 ],
 "metadata": {
  "kernelspec": {
   "display_name": "env",
   "language": "python",
   "name": "python3"
  },
  "language_info": {
   "codemirror_mode": {
    "name": "ipython",
    "version": 3
   },
   "file_extension": ".py",
   "mimetype": "text/x-python",
   "name": "python",
   "nbconvert_exporter": "python",
   "pygments_lexer": "ipython3",
   "version": "3.11.6"
  }
 },
 "nbformat": 4,
 "nbformat_minor": 2
}
