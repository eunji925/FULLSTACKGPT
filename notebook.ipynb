{
 "cells": [
  {
   "cell_type": "code",
   "execution_count": 19,
   "metadata": {},
   "outputs": [
    {
     "data": {
      "text/plain": [
       "'{\"questions\":[{\"question\":\"What is the capital of Italy?\",\"answers\":[{\"answer\":\"Rome\",\"correct\":true},{\"answer\":\"Milan\",\"correct\":false},{\"answer\":\"Naples\",\"correct\":false},{\"answer\":\"Turin\",\"correct\":false}]},{\"question\":\"Which river runs through Rome?\",\"answers\":[{\"answer\":\"Tiber\",\"correct\":true},{\"answer\":\"Seine\",\"correct\":false},{\"answer\":\"Danube\",\"correct\":false},{\"answer\":\"Thames\",\"correct\":false}]},{\"question\":\"What is the name of the ancient amphitheater in Rome?\",\"answers\":[{\"answer\":\"Colosseum\",\"correct\":true},{\"answer\":\"Pantheon\",\"correct\":false},{\"answer\":\"Roman Forum\",\"correct\":false},{\"answer\":\"Circus Maximus\",\"correct\":false}]},{\"question\":\"Which famous landmark in Rome is known for its large dome and oculus?\",\"answers\":[{\"answer\":\"Pantheon\",\"correct\":true},{\"answer\":\"St. Peter\\'s Basilica\",\"correct\":false},{\"answer\":\"Sistine Chapel\",\"correct\":false},{\"answer\":\"Trevi Fountain\",\"correct\":false}]},{\"question\":\"What is the name of the smallest independent state located entirely within Rome?\",\"answers\":[{\"answer\":\"Vatican City\",\"correct\":true},{\"answer\":\"San Marino\",\"correct\":false},{\"answer\":\"Monaco\",\"correct\":false},{\"answer\":\"Andorra\",\"correct\":false}]}]}'"
      ]
     },
     "execution_count": 19,
     "metadata": {},
     "output_type": "execute_result"
    }
   ],
   "source": [
    "from langchain.chat_models import ChatOpenAI\n",
    "from langchain.prompts import PromptTemplate\n",
    "\n",
    "\n",
    "function = {\n",
    "    \"name\": \"create_quiz\",\n",
    "    \"description\": \"function that takes a list of questions and answers and returns a quiz\",\n",
    "    \"parameters\": {\n",
    "        \"type\": \"object\",\n",
    "        \"properties\": {\n",
    "            \"questions\": {\n",
    "                \"type\": \"array\",\n",
    "                \"items\": {\n",
    "                    \"type\": \"object\",\n",
    "                    \"properties\": {\n",
    "                        \"question\": {\n",
    "                            \"type\": \"string\",\n",
    "                        },\n",
    "                        \"answers\": {\n",
    "                            \"type\": \"array\",\n",
    "                            \"items\": {\n",
    "                                \"type\": \"object\",\n",
    "                                \"properties\": {\n",
    "                                    \"answer\": {\n",
    "                                        \"type\": \"string\",\n",
    "                                    },\n",
    "                                    \"correct\": {\n",
    "                                        \"type\": \"boolean\",\n",
    "                                    },\n",
    "                                },\n",
    "                                \"required\": [\"answer\", \"correct\"],\n",
    "                            },\n",
    "                        },\n",
    "                    },\n",
    "                    \"required\": [\"question\", \"answers\"],\n",
    "                },\n",
    "            }\n",
    "        },\n",
    "        \"required\": [\"questions\"],\n",
    "    },\n",
    "}\n",
    "\n",
    "\n",
    "llm = ChatOpenAI(\n",
    "    temperature=0.1,\n",
    ").bind(\n",
    "    function_call={\n",
    "        \"name\": \"create_quiz\",\n",
    "    },\n",
    "    functions=[\n",
    "        function,\n",
    "    ],\n",
    ")\n",
    "\n",
    "prompt = PromptTemplate.from_template(\"Make a quiz about {city}\")\n",
    "\n",
    "chain = prompt | llm\n",
    "\n",
    "response = chain.invoke({\"city\": \"rome\"})\n",
    "\n",
    "\n",
    "response = response.additional_kwargs[\"function_call\"][\"arguments\"]\n",
    "\n",
    "response"
   ]
  },
  {
   "cell_type": "code",
   "execution_count": 20,
   "metadata": {},
   "outputs": [
    {
     "name": "stdout",
     "output_type": "stream",
     "text": [
      "{'question': 'What is the capital of Italy?', 'answers': [{'answer': 'Rome', 'correct': True}, {'answer': 'Milan', 'correct': False}, {'answer': 'Naples', 'correct': False}, {'answer': 'Turin', 'correct': False}]}\n",
      "{'question': 'Which river runs through Rome?', 'answers': [{'answer': 'Tiber', 'correct': True}, {'answer': 'Seine', 'correct': False}, {'answer': 'Danube', 'correct': False}, {'answer': 'Thames', 'correct': False}]}\n",
      "{'question': 'What is the name of the ancient amphitheater in Rome?', 'answers': [{'answer': 'Colosseum', 'correct': True}, {'answer': 'Pantheon', 'correct': False}, {'answer': 'Roman Forum', 'correct': False}, {'answer': 'Circus Maximus', 'correct': False}]}\n",
      "{'question': 'Which famous landmark in Rome is known for its large dome and oculus?', 'answers': [{'answer': 'Pantheon', 'correct': True}, {'answer': \"St. Peter's Basilica\", 'correct': False}, {'answer': 'Sistine Chapel', 'correct': False}, {'answer': 'Trevi Fountain', 'correct': False}]}\n",
      "{'question': 'What is the name of the smallest independent state located entirely within Rome?', 'answers': [{'answer': 'Vatican City', 'correct': True}, {'answer': 'San Marino', 'correct': False}, {'answer': 'Monaco', 'correct': False}, {'answer': 'Andorra', 'correct': False}]}\n"
     ]
    }
   ],
   "source": [
    "import json\n",
    "\n",
    "for question in json.loads(response)[\"questions\"]:\n",
    "    print(question)"
   ]
  }
 ],
 "metadata": {
  "kernelspec": {
   "display_name": "env",
   "language": "python",
   "name": "python3"
  },
  "language_info": {
   "codemirror_mode": {
    "name": "ipython",
    "version": 3
   },
   "file_extension": ".py",
   "mimetype": "text/x-python",
   "name": "python",
   "nbconvert_exporter": "python",
   "pygments_lexer": "ipython3",
   "version": "3.11.6"
  }
 },
 "nbformat": 4,
 "nbformat_minor": 2
}
