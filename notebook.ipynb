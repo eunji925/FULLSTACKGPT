{
 "cells": [
  {
   "cell_type": "code",
   "execution_count": 6,
   "metadata": {},
   "outputs": [],
   "source": [
    "from langchain.chat_models import ChatOpenAI\n",
    "from langchain.prompts import ChatPromptTemplate\n",
    "from langchain.callbacks import StreamingStdOutCallbackHandler\n",
    "\n",
    "chat = ChatOpenAI(temperature=0.1, streaming=True, callbacks=[StreamingStdOutCallbackHandler()])\n",
    "\n",
    "poem_prompt = ChatPromptTemplate.from_messages([\n",
    "    (\"system\", \"You are a poetic machine. Generate a creative and metaphorical poem.\"),\n",
    "    (\"human\", \"Write a poetic verse about the following {programming_language}\")\n",
    "])\n",
    "\n",
    "poem_chain = poem_prompt | chat"
   ]
  },
  {
   "cell_type": "code",
   "execution_count": null,
   "metadata": {},
   "outputs": [],
   "source": [
    "# 시를 설명하는 체인\n",
    "explanation_prompt = ChatPromptTemplate.from_messages([\n",
    "    (\"system\", \"You are an explanation machine. You need to Explain a poem written about a programming language.\"),\n",
    "    (\"human\", \"Explain the following {poem} which is written about a programming_language.\")\n",
    "])\n",
    "\n",
    "explanation_chain = explanation_prompt | chat\n",
    "\n",
    "final_chain = {\"poem\" : poem_chain} | explanation_chain\n",
    "\n",
    "final_chain.invoke({\n",
    "    \"programming_language\" : \"python\"\n",
    "})"
   ]
  }
 ],
 "metadata": {
  "kernelspec": {
   "display_name": "env",
   "language": "python",
   "name": "python3"
  },
  "language_info": {
   "codemirror_mode": {
    "name": "ipython",
    "version": 3
   },
   "file_extension": ".py",
   "mimetype": "text/x-python",
   "name": "python",
   "nbconvert_exporter": "python",
   "pygments_lexer": "ipython3",
   "version": "3.11.6"
  }
 },
 "nbformat": 4,
 "nbformat_minor": 2
}
