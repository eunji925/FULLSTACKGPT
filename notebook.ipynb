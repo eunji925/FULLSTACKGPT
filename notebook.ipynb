{
 "cells": [
  {
   "cell_type": "code",
   "execution_count": 1,
   "metadata": {},
   "outputs": [],
   "source": [
    "from langchain.memory import ConversationSummaryBufferMemory\n",
    "from langchain.chat_models import ChatOpenAI\n",
    "from langchain.prompts import FewShotPromptTemplate, PromptTemplate\n",
    "from langchain.schema.runnable import RunnablePassthrough\n",
    "from langchain.prompts import ChatPromptTemplate, MessagesPlaceholder\n",
    "\n",
    "# 1. LLM 및 메모리 설정\n",
    "llm = ChatOpenAI(temperature=0.1)\n",
    "\n",
    "memory = ConversationSummaryBufferMemory(\n",
    "    llm=llm,\n",
    "    max_token_limit=120,\n",
    "    return_messages=True,\n",
    ")\n",
    "\n",
    "# 2. Few-shot 예제 설정\n",
    "examples = [\n",
    "    {\"title\": \"Top Gun\", \"emojis\": \"🛩️👨‍✈️🔥\"},\n",
    "    {\"title\": \"The Godfather\", \"emojis\": \"👨‍👨‍👦🔫🍝\"},\n",
    "    {\"title\": \"Finding Nemo\", \"emojis\": \"🐟🔍🐢\"}\n",
    "]\n",
    "\n",
    "example_template = PromptTemplate(\n",
    "    input_variables=[\"title\", \"emojis\"],\n",
    "    template=\"Movie: {title}\\nEmojis: {emojis}\\n\"\n",
    ")\n",
    "\n",
    "few_shot_prompt = FewShotPromptTemplate(\n",
    "    examples=examples,\n",
    "    example_prompt=example_template,\n",
    "    prefix=\"You are a helpful assistant that responds to movie titles with three appropriate emojis.\",\n",
    "    suffix=\"Movie: {title}\\nEmojis:\",\n",
    "    input_variables=[\"title\"],\n",
    "    example_separator=\"\\n\"\n",
    ")\n",
    "\n",
    "# 3. Prompt 설정\n",
    "prompt = ChatPromptTemplate.from_messages(\n",
    "    [\n",
    "        (\"system\", \"You are a helpful AI that provides three emojis representing a movie based on the title.\"),\n",
    "        MessagesPlaceholder(variable_name=\"history\"),\n",
    "        (\"human\", \"{title}\"),\n",
    "    ]\n",
    ")\n",
    "\n",
    "# 메모리 변수들을 획득하는 함수\n",
    "def load_memory(_):\n",
    "    return memory.load_memory_variables({})[\"history\"]\n",
    "\n",
    "# 4. LCEL Chain 구성\n",
    "chain = RunnablePassthrough.assign(history=load_memory) | prompt | llm\n",
    "\n",
    "# 체인을 호출하는 함수 / 사용자로부터 질문을 받을 함수\n",
    "def invoke_chain(title):\n",
    "    result = chain.invoke({\"title\": title})\n",
    "    memory.save_context({\"input\": title}, {\"output\": result.content})\n",
    "    print(f\"{title} -> {result.content}\")\n"
   ]
  },
  {
   "cell_type": "code",
   "execution_count": 2,
   "metadata": {},
   "outputs": [
    {
     "name": "stdout",
     "output_type": "stream",
     "text": [
      "Titanic -> 🚢💔🌊\n"
     ]
    }
   ],
   "source": [
    "invoke_chain(\"Titanic\")"
   ]
  },
  {
   "cell_type": "code",
   "execution_count": 3,
   "metadata": {},
   "outputs": [
    {
     "name": "stdout",
     "output_type": "stream",
     "text": [
      "The Matrix -> 🕶️💻🔵\n"
     ]
    }
   ],
   "source": [
    "invoke_chain(\"The Matrix\")"
   ]
  },
  {
   "cell_type": "code",
   "execution_count": 4,
   "metadata": {},
   "outputs": [
    {
     "name": "stdout",
     "output_type": "stream",
     "text": [
      "What was the first movie I asked about? -> 🚢💔🌊\n"
     ]
    }
   ],
   "source": [
    "invoke_chain(\"What was the first movie I asked about?\")"
   ]
  }
 ],
 "metadata": {
  "kernelspec": {
   "display_name": "env",
   "language": "python",
   "name": "python3"
  },
  "language_info": {
   "codemirror_mode": {
    "name": "ipython",
    "version": 3
   },
   "file_extension": ".py",
   "mimetype": "text/x-python",
   "name": "python",
   "nbconvert_exporter": "python",
   "pygments_lexer": "ipython3",
   "version": "3.11.6"
  }
 },
 "nbformat": 4,
 "nbformat_minor": 2
}
